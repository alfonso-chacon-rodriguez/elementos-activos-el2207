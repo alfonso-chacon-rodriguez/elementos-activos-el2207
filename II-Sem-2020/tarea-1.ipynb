{
 "cells": [
  {
   "cell_type": "markdown",
   "metadata": {},
   "source": [
    "## 1\n",
    "Averiguar $n_i$ para Ge a T=300 K, T= 600K\n",
    "\n",
    "\\begin{equation}\n",
    "n_i=BT^{(3/2)}exp(\\frac{-E_G}{2kT})\n",
    "\\end{equation}\n",
    "con $B$=1,66$\\times$10$^{15}$, $k$=8,617$\\times$10$^{-5}$ eV/K, $E_G$=0,66 eV\n"
   ]
  },
  {
   "cell_type": "code",
   "execution_count": 13,
   "metadata": {},
   "outputs": [
    {
     "name": "stdout",
     "output_type": "stream",
     "text": [
      "El número de portadores intrínsecos en el Ge a T= 300.00 es: 2.466E+13 atomos/cm3\n",
      "El número de portadores intrínsecos en el Ge a T= 600.00 es: 4.125E+16 atomos/cm3\n"
     ]
    }
   ],
   "source": [
    "import matplotlib.pyplot as plt\n",
    "import numpy as np\n",
    "\n",
    "EG=0.66;\n",
    "k=8.617333e-5;\n",
    "B=1.66e15;\n",
    "T=300.0;\n",
    "ni_300=B*(T**(3/2))*(np.exp((-EG)/(2*k*T)));\n",
    "print (\"El número de portadores intrínsecos en el Ge a T= %3.2f es: %3.3E atomos/cm3\" % (T,ni_300));\n",
    "T=600.0;\n",
    "ni_600=B*(T**(3/2))*(np.exp((-EG)/(2*k*T)));\n",
    "print (\"El número de portadores intrínsecos en el Ge a T= %3.2f es: %3.3E atomos/cm3\" % (T,ni_600));"
   ]
  },
  {
   "cell_type": "markdown",
   "metadata": {},
   "source": [
    "## 2\n",
    "Según se plantea en el problema \n",
    "\\begin{eqnarray}\n",
    "n&=& n_i exp(\\frac{E_F-E_i}{kT}) \\\\\n",
    "p&=& n_i exp(\\frac{E_i-E_F}{kT})\n",
    "\\end{eqnarray}\n",
    "Luego\n",
    "\n",
    "\\begin{eqnarray}\n",
    "np &=& (n_{i} exp(\\frac{E_F-E_i}{kT})* n_{i} exp(\\frac{E_i-E_F}{kT})) \\\\\n",
    "np &=& n_{i}^{2}exp(\\frac{E_F-E_i+E_i-E_F}{kT}) \\\\\n",
    "np &=& n_{i}^{2}exp(0)=n_{i}^{2}\n",
    "\\end{eqnarray}"
   ]
  },
  {
   "cell_type": "markdown",
   "metadata": {},
   "source": [
    "## 3\n",
    "\n",
    "Se sabe que $np=n_i^2$, y que se ha dopado el Si con un material P de la columna V, que tiene un electrón más de valencia. Por tanto, se puede suponer que a T=300 K, estos electrones extra estarán libres y en la zona de conducción (con una energía superior a la de la banda de conducción $E_c$). \n",
    "\n",
    "Si el dopado de P=5$\\times$10$^{16}$cm$^{-3}$, entonces, dado que $n_i$(300 K)= 2,466$\\times$10$^{13}$cm$^{-3}$\n"
   ]
  },
  {
   "cell_type": "code",
   "execution_count": 14,
   "metadata": {},
   "outputs": [
    {
     "name": "stdout",
     "output_type": "stream",
     "text": [
      "El número de portadores tipo hueco en el Ge a T= 300.00 es: 1.216E+10 atomos/cm3\n",
      "y el número de portadores tipo electrón en el Ge a T= 300.00 es: 5.000E+16 atomos/cm3\n"
     ]
    }
   ],
   "source": [
    "Dop_P=5e16;\n",
    "T= 300;\n",
    "n=Dop_P;\n",
    "p= (ni_300**2)/n\n",
    "print (\"El número de portadores tipo hueco en el Ge a T= %3.2f es: %3.3E atomos/cm3\" % (T,p));\n",
    "print (\"y el número de portadores tipo electrón en el Ge a T= %3.2f es: %3.3E atomos/cm3\" % (T,n));"
   ]
  },
  {
   "cell_type": "code",
   "execution_count": null,
   "metadata": {},
   "outputs": [],
   "source": []
  }
 ],
 "metadata": {
  "kernelspec": {
   "display_name": "Python 3",
   "language": "python",
   "name": "python3"
  },
  "language_info": {
   "codemirror_mode": {
    "name": "ipython",
    "version": 3
   },
   "file_extension": ".py",
   "mimetype": "text/x-python",
   "name": "python",
   "nbconvert_exporter": "python",
   "pygments_lexer": "ipython3",
   "version": "3.7.7"
  }
 },
 "nbformat": 4,
 "nbformat_minor": 4
}
