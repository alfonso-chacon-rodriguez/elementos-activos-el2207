{
 "cells": [
  {
   "cell_type": "markdown",
   "metadata": {},
   "source": [
    "# Problema 6"
   ]
  },
  {
   "cell_type": "code",
   "execution_count": 3,
   "metadata": {},
   "outputs": [],
   "source": [
    "import matplotlib.pyplot as plt\n",
    "import numpy as np"
   ]
  },
  {
   "cell_type": "markdown",
   "metadata": {},
   "source": [
    "Primero generamos las constantes, y los valores de dopado a usar de entrada. \n",
    "\n",
    "Como la unión es $N^+$P, podemos usar la ecuación ideal de corriente aplicada al lado menos dopado, despreciando el efecto en el lado más dopado.\n",
    "\n",
    "Por tanto: $I_D$ = $qA\\frac{D_{n}n_{P}}{W_P} [exp(v_{D}/\\phi_{T})-1]$\n",
    "\n",
    "En nuestro caso, se supone una unión muy corta. Por tanto, $W_P^2=2D_n$ $\\tau_n$\n",
    "\n",
    "\n",
    "\n"
   ]
  },
  {
   "cell_type": "code",
   "execution_count": 5,
   "metadata": {},
   "outputs": [],
   "source": [
    "NA=1.0e15;\n",
    "taun=1.0e-16;\n",
    "q=1.6e-19;\n",
    "k=8.616e-5;\n",
    "A=1.0e-3;\n",
    "kT=0.0259;\n",
    "e0=8.85e-14;\n",
    "KS=11.8;\n",
    "ni=1.0e10;\n",
    "u_n0=1345;\n",
    "#Vbi=kT*(np.log((ND*NA)/(ni**2)));\n",
    "#print (\"El potencial interno en equilibrio del diodo es: %3.4f V\" % Vbi)\n"
   ]
  },
  {
   "cell_type": "markdown",
   "metadata": {},
   "source": [
    "Generamos el espacio lineal de graficación y calculamos las funciones. \n",
    "\n",
    "Es primero necesario encontrar $\\mu_n(T)$.\n",
    "\n",
    "Luego, encontramos $W_p$, $D_n$ y a partir de ahi $I_D$.\n"
   ]
  },
  {
   "cell_type": "code",
   "execution_count": 6,
   "metadata": {},
   "outputs": [
    {
     "name": "stdout",
     "output_type": "stream",
     "text": [
      "$I_0$= 7.531E-09 A a T:250.00 K \n",
      "$I_0$= 6.671E-09 A a T:300.00 K \n",
      "$I_0$= 6.021E-09 A a T:350.00 K \n",
      "$I_0$= 5.509E-09 A a T:400.00 K \n"
     ]
    },
    {
     "data": {
      "image/png": "[encoded data removed]",
      "text/plain": [
       "<Figure size 432x288 with 1 Axes>"
      ]
     },
     "metadata": {
      "needs_background": "light"
     },
     "output_type": "display_data"
    }
   ],
   "source": [
    "T_List= [250.0, 300.0, 350.0, 400-0 ]\n",
    "T_max=max(T_List)\n",
    "\n",
    "# Definimos las figuras. Una para E y otra para phi\n",
    "fig1 = plt.figure(1)\n",
    "\n",
    "#Vamos iterando por los valores de VA especificados.\n",
    "#Vamos iterando por metodo alternativo para conocer el indice\n",
    "for i in range(len(T_List)):\n",
    "\n",
    "    T=T_List[i];\n",
    "    VA = np.linspace(-0.5,0.15);\n",
    "    #Calculamos un en función de la temperatura\n",
    "    u_n=u_n0*(T/300)**(-2.33);\n",
    "    DN=k*T*u_n;\n",
    "    WP=np.sqrt(2*DN*taun)\n",
    "    I0=q*A*DN*(ni**2)/(WP*NA);\n",
    "    I=I0*(np.exp(VA/(k*T))-1); #Ecuacion ideal del diodo\n",
    "    if (i==0) :\n",
    "        y_min=-1.0*I0;\n",
    "        y_max=5.0*I0;\n",
    "        plt.figure(1)\n",
    "        plt.ylim(y_min, y_max)\n",
    "\n",
    "    #Imprimimos los valores para este tracto\n",
    "    print (\"$I_0$=%10.3E A a T:%3.2f K \" % (I0, T));\n",
    "    \n",
    "    #x_axis=np.append(x,xx);\n",
    "    plt.figure(1)\n",
    "    plt.plot(VA, I, label='Para $T$= %3.3f V' % T)\n",
    "    #plt.plot(x, Vp, xx, Vn, label='Para $V_A$=$-20$ V')\n",
    "    plt.xlabel(\"$V_A$ (V)\")\n",
    "    plt.ylabel(\"$I_D$ (A)\")\n",
    "    #plt.xlim(-xmax, xmax)\n",
    "    plt.title('Corriente por la juntura $N^+P$')\n",
    "    plt.legend()\n",
    "    #plt.ylim(y_min, y_max)\n",
    "    plt.grid(True)\n",
    "    \n",
    "    "
   ]
  },
  {
   "cell_type": "code",
   "execution_count": null,
   "metadata": {},
   "outputs": [],
   "source": []
  }
 ],
 "metadata": {
  "kernelspec": {
   "display_name": "Python 3",
   "language": "python",
   "name": "python3"
  },
  "language_info": {
   "codemirror_mode": {
    "name": "ipython",
    "version": 3
   },
   "file_extension": ".py",
   "mimetype": "text/x-python",
   "name": "python",
   "nbconvert_exporter": "python",
   "pygments_lexer": "ipython3",
   "version": "3.7.7"
  }
 },
 "nbformat": 4,
 "nbformat_minor": 4
}
